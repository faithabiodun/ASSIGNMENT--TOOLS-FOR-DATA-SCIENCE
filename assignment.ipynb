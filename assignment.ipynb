{
 "cells": [
  {
   "cell_type": "markdown",
   "id": "9aef0460-7223-4294-9410-8dd5f1aa0716",
   "metadata": {},
   "source": [
    "# Data Science Notebook\n"
   ]
  },
  {
   "cell_type": "markdown",
   "id": "70854890-9517-4443-9757-c091ad1beabb",
   "metadata": {},
   "source": [
    "## Introduction\n",
    "This notebook covers various exercises related to Data Science tools, libraries, and concepts. It includes examples of arithmetic operations and data manipulation.\n"
   ]
  },
  {
   "cell_type": "markdown",
   "id": "a66089f2-b984-4e06-8236-a97f63570be9",
   "metadata": {},
   "source": [
    "## Data Science Languages\n",
    "- Python\n",
    "- R\n",
    "- SQL\n",
    "- Julia\n",
    "- Scala\n"
   ]
  },
  {
   "cell_type": "markdown",
   "id": "271e8f38-d8fb-4b9c-b6c8-bc3dfd8c43dc",
   "metadata": {},
   "source": [
    "## Data Science Libraries\n",
    "- Pandas\n",
    "- NumPy\n",
    "- Matplotlib\n",
    "- Seaborn\n",
    "- Scikit-learn\n",
    "- TensorFlow\n",
    "- PyTorch\n"
   ]
  },
  {
   "cell_type": "markdown",
   "id": "a39fdab3-208a-429a-80ea-4f93a04c4eb0",
   "metadata": {},
   "source": [
    "## Data Science Tools\n",
    "\n",
    "| Tool            | Description                        |\n",
    "|------------------|------------------------------------|\n",
    "| Jupyter Notebook| Interactive environment for coding |\n",
    "| RStudio         | IDE for R programming              |\n",
    "| Apache Spark    | Distributed data processing        |\n",
    "| TensorFlow      | Deep learning framework            |\n",
    "| Tableau         | Data visualization tool            |\n"
   ]
  },
  {
   "cell_type": "markdown",
   "id": "69c96784-b78a-4b30-b89c-8b543209a879",
   "metadata": {},
   "source": [
    "## Arithmetic Expression Examples\n",
    "Below are examples of basic arithmetic operations such as addition and multiplication.\n"
   ]
  },
  {
   "cell_type": "code",
   "execution_count": 7,
   "id": "45a526c5-19ea-4cab-be10-c6b32c3a9089",
   "metadata": {},
   "outputs": [
    {
     "data": {
      "text/plain": [
       "(42, 13)"
      ]
     },
     "execution_count": 7,
     "metadata": {},
     "output_type": "execute_result"
    }
   ],
   "source": [
    "# Multiplication and Addition\n",
    "result_multiply = 7 * 6\n",
    "result_add = 7 + 6\n",
    "result_multiply, result_add\n"
   ]
  },
  {
   "cell_type": "code",
   "execution_count": 8,
   "id": "396e1d53-60af-4217-b602-4ad952eb665e",
   "metadata": {},
   "outputs": [
    {
     "data": {
      "text/plain": [
       "2.5"
      ]
     },
     "execution_count": 8,
     "metadata": {},
     "output_type": "execute_result"
    }
   ],
   "source": [
    "# Convert minutes to hours\n",
    "minutes = 150\n",
    "hours = minutes / 60\n",
    "hours\n"
   ]
  },
  {
   "cell_type": "markdown",
   "id": "39279a35-fd47-42f7-becd-1e5c1e6511d2",
   "metadata": {},
   "source": [
    "## Objectives\n",
    "- Learn about data science languages and libraries.\n",
    "- Understand data science tools.\n",
    "- Practice arithmetic operations.\n",
    "- Convert units (minutes to hours).\n"
   ]
  },
  {
   "cell_type": "markdown",
   "id": "6f131074-0732-4d14-aa5d-1fe439b51db7",
   "metadata": {},
   "source": [
    "## Author\n",
    "FAITH ABIODUN\n"
   ]
  },
  {
   "cell_type": "markdown",
   "id": "6624c28c-f715-453d-83b6-b60609eefde0",
   "metadata": {},
   "source": []
  }
 ],
 "metadata": {
  "kernelspec": {
   "display_name": "Python 3 (ipykernel)",
   "language": "python",
   "name": "python3"
  },
  "language_info": {
   "codemirror_mode": {
    "name": "ipython",
    "version": 3
   },
   "file_extension": ".py",
   "mimetype": "text/x-python",
   "name": "python",
   "nbconvert_exporter": "python",
   "pygments_lexer": "ipython3",
   "version": "3.13.1"
  }
 },
 "nbformat": 4,
 "nbformat_minor": 5
}
